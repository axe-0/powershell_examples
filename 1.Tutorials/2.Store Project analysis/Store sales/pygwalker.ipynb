{
 "cells": [
  {
   "cell_type": "code",
   "execution_count": 2,
   "id": "4b816f24",
   "metadata": {},
   "outputs": [],
   "source": [
    "import pandas as pd\n",
    "import pygwalker as pg"
   ]
  },
  {
   "cell_type": "markdown",
   "id": "f692f2e2",
   "metadata": {},
   "source": [
    "# Read Data"
   ]
  },
  {
   "cell_type": "code",
   "execution_count": 3,
   "id": "99e8575e",
   "metadata": {},
   "outputs": [
    {
     "data": {
      "text/html": [
       "<div>\n",
       "<style scoped>\n",
       "    .dataframe tbody tr th:only-of-type {\n",
       "        vertical-align: middle;\n",
       "    }\n",
       "\n",
       "    .dataframe tbody tr th {\n",
       "        vertical-align: top;\n",
       "    }\n",
       "\n",
       "    .dataframe thead th {\n",
       "        text-align: right;\n",
       "    }\n",
       "</style>\n",
       "<table border=\"1\" class=\"dataframe\">\n",
       "  <thead>\n",
       "    <tr style=\"text-align: right;\">\n",
       "      <th></th>\n",
       "      <th>Date</th>\n",
       "      <th>SKU</th>\n",
       "      <th>Product Name</th>\n",
       "      <th>City</th>\n",
       "      <th>Sales</th>\n",
       "    </tr>\n",
       "  </thead>\n",
       "  <tbody>\n",
       "    <tr>\n",
       "      <th>0</th>\n",
       "      <td>2023-01-01 0:00:00</td>\n",
       "      <td>F001</td>\n",
       "      <td>Prateek England</td>\n",
       "      <td>Mumbai</td>\n",
       "      <td>93</td>\n",
       "    </tr>\n",
       "    <tr>\n",
       "      <th>1</th>\n",
       "      <td>2023-01-01 0:00:00</td>\n",
       "      <td>F002</td>\n",
       "      <td>Lucy Phillepe</td>\n",
       "      <td>Mumbai</td>\n",
       "      <td>36</td>\n",
       "    </tr>\n",
       "    <tr>\n",
       "      <th>2</th>\n",
       "      <td>2023-01-01 0:00:00</td>\n",
       "      <td>F003</td>\n",
       "      <td>Badlands</td>\n",
       "      <td>Mumbai</td>\n",
       "      <td>7</td>\n",
       "    </tr>\n",
       "    <tr>\n",
       "      <th>3</th>\n",
       "      <td>2023-01-01 0:00:00</td>\n",
       "      <td>F004</td>\n",
       "      <td>Allen Dolly</td>\n",
       "      <td>Mumbai</td>\n",
       "      <td>55</td>\n",
       "    </tr>\n",
       "    <tr>\n",
       "      <th>4</th>\n",
       "      <td>2023-01-01 0:00:00</td>\n",
       "      <td>F005</td>\n",
       "      <td>Bucchi</td>\n",
       "      <td>Mumbai</td>\n",
       "      <td>41</td>\n",
       "    </tr>\n",
       "    <tr>\n",
       "      <th>...</th>\n",
       "      <td>...</td>\n",
       "      <td>...</td>\n",
       "      <td>...</td>\n",
       "      <td>...</td>\n",
       "      <td>...</td>\n",
       "    </tr>\n",
       "    <tr>\n",
       "      <th>6195</th>\n",
       "      <td>2023-01-30 0:00:00</td>\n",
       "      <td>G001</td>\n",
       "      <td>Crafting Chandlar</td>\n",
       "      <td>Aurangabad</td>\n",
       "      <td>13</td>\n",
       "    </tr>\n",
       "    <tr>\n",
       "      <th>6196</th>\n",
       "      <td>2023-01-30 0:00:00</td>\n",
       "      <td>G002</td>\n",
       "      <td>Desi Kurti</td>\n",
       "      <td>Aurangabad</td>\n",
       "      <td>24</td>\n",
       "    </tr>\n",
       "    <tr>\n",
       "      <th>6197</th>\n",
       "      <td>2023-01-30 0:00:00</td>\n",
       "      <td>G003</td>\n",
       "      <td>Family Cake and Card Combo</td>\n",
       "      <td>Aurangabad</td>\n",
       "      <td>66</td>\n",
       "    </tr>\n",
       "    <tr>\n",
       "      <th>6198</th>\n",
       "      <td>2023-01-30 0:00:00</td>\n",
       "      <td>G004</td>\n",
       "      <td>Exact Flower Vase</td>\n",
       "      <td>Aurangabad</td>\n",
       "      <td>55</td>\n",
       "    </tr>\n",
       "    <tr>\n",
       "      <th>6199</th>\n",
       "      <td>2023-01-30 0:00:00</td>\n",
       "      <td>G005</td>\n",
       "      <td>Friends Dinner Set</td>\n",
       "      <td>Aurangabad</td>\n",
       "      <td>59</td>\n",
       "    </tr>\n",
       "  </tbody>\n",
       "</table>\n",
       "<p>6200 rows × 5 columns</p>\n",
       "</div>"
      ],
      "text/plain": [
       "                    Date   SKU                Product Name        City  Sales\n",
       "0     2023-01-01 0:00:00  F001             Prateek England      Mumbai     93\n",
       "1     2023-01-01 0:00:00  F002               Lucy Phillepe      Mumbai     36\n",
       "2     2023-01-01 0:00:00  F003                    Badlands      Mumbai      7\n",
       "3     2023-01-01 0:00:00  F004                 Allen Dolly      Mumbai     55\n",
       "4     2023-01-01 0:00:00  F005                      Bucchi      Mumbai     41\n",
       "...                  ...   ...                         ...         ...    ...\n",
       "6195  2023-01-30 0:00:00  G001           Crafting Chandlar  Aurangabad     13\n",
       "6196  2023-01-30 0:00:00  G002                  Desi Kurti  Aurangabad     24\n",
       "6197  2023-01-30 0:00:00  G003  Family Cake and Card Combo  Aurangabad     66\n",
       "6198  2023-01-30 0:00:00  G004           Exact Flower Vase  Aurangabad     55\n",
       "6199  2023-01-30 0:00:00  G005          Friends Dinner Set  Aurangabad     59\n",
       "\n",
       "[6200 rows x 5 columns]"
      ]
     },
     "execution_count": 3,
     "metadata": {},
     "output_type": "execute_result"
    }
   ],
   "source": [
    "df_sales = pd.read_csv('Sales.csv')\n",
    "df_sales"
   ]
  },
  {
   "cell_type": "code",
   "execution_count": 4,
   "id": "eabaa008",
   "metadata": {
    "scrolled": true
   },
   "outputs": [
    {
     "data": {
      "application/vnd.jupyter.widget-view+json": {
       "model_id": "dfc5124329424f46b93efae3e51e657a",
       "version_major": 2,
       "version_minor": 0
      },
      "text/plain": [
       "Box(children=(HTML(value='<div id=\"ifr-pyg-0\" style=\"height: auto\">\\n    <head>\\n        <meta http-equiv=\"Con…"
      ]
     },
     "metadata": {},
     "output_type": "display_data"
    },
    {
     "data": {
      "text/html": [],
      "text/plain": [
       "<IPython.core.display.HTML object>"
      ]
     },
     "metadata": {},
     "output_type": "display_data"
    },
    {
     "data": {
      "text/plain": [
       "<pygwalker.api.pygwalker.PygWalker at 0x13563dca0>"
      ]
     },
     "execution_count": 4,
     "metadata": {},
     "output_type": "execute_result"
    }
   ],
   "source": [
    "pg.walk(df_sales)\n"
   ]
  },
  {
   "cell_type": "code",
   "execution_count": null,
   "id": "3ded797d",
   "metadata": {},
   "outputs": [],
   "source": []
  },
  {
   "cell_type": "code",
   "execution_count": null,
   "id": "37f2dfa2",
   "metadata": {},
   "outputs": [],
   "source": []
  },
  {
   "cell_type": "code",
   "execution_count": null,
   "id": "def50f41",
   "metadata": {},
   "outputs": [],
   "source": []
  },
  {
   "cell_type": "code",
   "execution_count": null,
   "id": "d93faea9",
   "metadata": {},
   "outputs": [],
   "source": []
  },
  {
   "cell_type": "code",
   "execution_count": null,
   "id": "908cc6e5",
   "metadata": {},
   "outputs": [],
   "source": []
  },
  {
   "cell_type": "code",
   "execution_count": null,
   "id": "0af0769e",
   "metadata": {},
   "outputs": [],
   "source": []
  },
  {
   "cell_type": "code",
   "execution_count": null,
   "id": "978dedb4",
   "metadata": {},
   "outputs": [],
   "source": []
  },
  {
   "cell_type": "code",
   "execution_count": null,
   "id": "1b8cf467",
   "metadata": {},
   "outputs": [],
   "source": []
  },
  {
   "cell_type": "code",
   "execution_count": null,
   "id": "f3f7d59a",
   "metadata": {},
   "outputs": [],
   "source": []
  },
  {
   "cell_type": "code",
   "execution_count": null,
   "id": "a45f4198",
   "metadata": {},
   "outputs": [],
   "source": []
  },
  {
   "cell_type": "code",
   "execution_count": null,
   "id": "93c73f1f",
   "metadata": {},
   "outputs": [],
   "source": []
  }
 ],
 "metadata": {
  "kernelspec": {
   "display_name": "Python 3 (ipykernel)",
   "language": "python",
   "name": "python3"
  },
  "language_info": {
   "codemirror_mode": {
    "name": "ipython",
    "version": 3
   },
   "file_extension": ".py",
   "mimetype": "text/x-python",
   "name": "python",
   "nbconvert_exporter": "python",
   "pygments_lexer": "ipython3",
   "version": "3.12.2"
  }
 },
 "nbformat": 4,
 "nbformat_minor": 5
}
