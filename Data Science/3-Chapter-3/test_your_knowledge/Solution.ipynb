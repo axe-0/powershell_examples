{
 "cells": [
  {
   "cell_type": "markdown",
   "metadata": {},
   "source": [
    "This is a solution to the \"test your knowledge\" challenges at the end of chapter 3. Be sure to try the challenges first before looking at the solutions! "
   ]
  },
  {
   "cell_type": "markdown",
   "metadata": {},
   "source": [
    "## Bitcoin price data"
   ]
  },
  {
   "cell_type": "code",
   "execution_count": 54,
   "metadata": {},
   "outputs": [],
   "source": [
    "# ensure the db file is deleted so we are able to create it\n",
    "import os\n",
    "os.remove('bitcoin_data.sql')"
   ]
  },
  {
   "cell_type": "code",
   "execution_count": 55,
   "metadata": {},
   "outputs": [
    {
     "data": {
      "text/plain": [
       "{'symbol': 'btcusd',\n",
       " 'time': 1364688000000,\n",
       " 'open': 92.5,\n",
       " 'close': 93.033,\n",
       " 'high': 93.74999,\n",
       " 'low': 91.0,\n",
       " 'volume': 3083.07979075}"
      ]
     },
     "execution_count": 55,
     "metadata": {},
     "output_type": "execute_result"
    }
   ],
   "source": [
    "# load json data\n",
    "import json\n",
    "with open('bitcoin_price.json') as f:\n",
    "    data = json.load(f)\n",
    "\n",
    "data[0]"
   ]
  },
  {
   "cell_type": "code",
   "execution_count": 56,
   "metadata": {},
   "outputs": [
    {
     "data": {
      "text/plain": [
       "'btcusd'"
      ]
     },
     "execution_count": 56,
     "metadata": {},
     "output_type": "execute_result"
    }
   ],
   "source": [
    "# we can see the data is organized in a list of dictionaries\n",
    "data[0]['symbol']"
   ]
  },
  {
   "cell_type": "code",
   "execution_count": 57,
   "metadata": {},
   "outputs": [],
   "source": [
    "import sqlite3"
   ]
  },
  {
   "cell_type": "code",
   "execution_count": 58,
   "metadata": {},
   "outputs": [],
   "source": [
    "db = sqlite3.connect('bitcoin_data.sql')\n",
    "cur = db.cursor()"
   ]
  },
  {
   "cell_type": "code",
   "execution_count": 59,
   "metadata": {},
   "outputs": [
    {
     "data": {
      "text/plain": [
       "<sqlite3.Cursor at 0x252d8dbc490>"
      ]
     },
     "execution_count": 59,
     "metadata": {},
     "output_type": "execute_result"
    }
   ],
   "source": [
    "cur.execute('CREATE TABLE bitcoin_price (time INTEGER, open REAL, close REAL, high REAL, low REAL, volume REAL);')"
   ]
  },
  {
   "cell_type": "code",
   "execution_count": 60,
   "metadata": {},
   "outputs": [],
   "source": [
    "data_list = []\n",
    "for d in data:\n",
    "    data_list.append([d['time'], d['open'], d['close'], d['high'], d['low'], d['volume']])"
   ]
  },
  {
   "cell_type": "code",
   "execution_count": 61,
   "metadata": {},
   "outputs": [
    {
     "data": {
      "text/plain": [
       "[1364688000000, 92.5, 93.033, 93.74999, 91.0, 3083.07979075]"
      ]
     },
     "execution_count": 61,
     "metadata": {},
     "output_type": "execute_result"
    }
   ],
   "source": [
    "data_list[0]"
   ]
  },
  {
   "cell_type": "code",
   "execution_count": 62,
   "metadata": {},
   "outputs": [
    {
     "data": {
      "text/plain": [
       "<sqlite3.Cursor at 0x252d8dbc490>"
      ]
     },
     "execution_count": 62,
     "metadata": {},
     "output_type": "execute_result"
    }
   ],
   "source": [
    "cur.executemany('INSERT INTO bitcoin_price VALUES (?, ?, ?, ?, ?, ?)', data_list)"
   ]
  },
  {
   "cell_type": "code",
   "execution_count": 63,
   "metadata": {},
   "outputs": [],
   "source": [
    "db.commit()"
   ]
  },
  {
   "cell_type": "code",
   "execution_count": 64,
   "metadata": {},
   "outputs": [],
   "source": [
    "db.close()"
   ]
  },
  {
   "cell_type": "code",
   "execution_count": 65,
   "metadata": {},
   "outputs": [],
   "source": [
    "# re-connect to check data was properly saved\n",
    "db = sqlite3.connect('bitcoin_data.sql')\n",
    "cur = db.cursor()"
   ]
  },
  {
   "cell_type": "code",
   "execution_count": 66,
   "metadata": {},
   "outputs": [
    {
     "data": {
      "text/plain": [
       "1606521600000"
      ]
     },
     "execution_count": 66,
     "metadata": {},
     "output_type": "execute_result"
    }
   ],
   "source": [
    "# get latest date in the data\n",
    "res = cur.execute('SELECT MAX(time) FROM bitcoin_price;')\n",
    "max_time = res.fetchone()[0]\n",
    "max_time"
   ]
  },
  {
   "cell_type": "code",
   "execution_count": 67,
   "metadata": {},
   "outputs": [
    {
     "data": {
      "text/plain": [
       "datetime.datetime(2020, 11, 27, 17, 0)"
      ]
     },
     "execution_count": 67,
     "metadata": {},
     "output_type": "execute_result"
    }
   ],
   "source": [
    "import datetime\n",
    "datetime.datetime.fromtimestamp(max_time // 1000)"
   ]
  },
  {
   "cell_type": "code",
   "execution_count": 68,
   "metadata": {},
   "outputs": [
    {
     "data": {
      "text/plain": [
       "datetime.datetime(2013, 3, 30, 18, 0)"
      ]
     },
     "execution_count": 68,
     "metadata": {},
     "output_type": "execute_result"
    }
   ],
   "source": [
    "# get earliest date\n",
    "res = cur.execute('SELECT MIN(time) FROM bitcoin_price;')\n",
    "min_time = res.fetchone()[0]\n",
    "datetime.datetime.fromtimestamp(min_time // 1000)"
   ]
  },
  {
   "cell_type": "code",
   "execution_count": 71,
   "metadata": {},
   "outputs": [
    {
     "data": {
      "text/plain": [
       "[(1138.5, '2013'),\n",
       " (919.24, '2014'),\n",
       " (466.01, '2015'),\n",
       " (981.7, '2016'),\n",
       " (19210.0, '2017'),\n",
       " (17169.0, '2018'),\n",
       " (12876.0, '2019'),\n",
       " (19131.0, '2020')]"
      ]
     },
     "execution_count": 71,
     "metadata": {},
     "output_type": "execute_result"
    }
   ],
   "source": [
    "# get maximum price for each year, grouped and sorted by year\n",
    "# first we need to create a year column\n",
    "query = \"\"\"\n",
    "SELECT MAX(close), STRFTIME('%Y', DATE(ROUND(time / 1000), 'unixepoch')) as year\n",
    "FROM bitcoin_price\n",
    "GROUP BY year\n",
    "ORDER BY year;\n",
    "\"\"\"\n",
    "res = cur.execute(query)\n",
    "res.fetchall()"
   ]
  },
  {
   "cell_type": "code",
   "execution_count": 72,
   "metadata": {},
   "outputs": [],
   "source": [
    "db.close()"
   ]
  },
  {
   "cell_type": "markdown",
   "metadata": {},
   "source": [
    "## chinook/sqlalchemy"
   ]
  },
  {
   "cell_type": "code",
   "execution_count": 1,
   "metadata": {},
   "outputs": [],
   "source": [
    "from sqlalchemy import create_engine\n",
    "engine = create_engine(\"sqlite:///../chinook.db\")\n",
    "conn = engine.connect()"
   ]
  },
  {
   "cell_type": "markdown",
   "metadata": {},
   "source": [
    "Get genres with the longest song length."
   ]
  },
  {
   "cell_type": "code",
   "execution_count": 2,
   "metadata": {},
   "outputs": [
    {
     "data": {
      "text/plain": [
       "[(2911.7830384615386, 'Sci Fi & Fantasy'),\n",
       " (2625.549076923077, 'Science Fiction'),\n",
       " (2575.28378125, 'Drama'),\n",
       " (2145.041021505376, 'TV Shows'),\n",
       " (1585.263705882353, 'Comedy'),\n",
       " (309.74944385026737, 'Metal'),\n",
       " (302.9858, 'Electronica/Dance'),\n",
       " (297.4529285714286, 'Heavy Metal'),\n",
       " (293.86756756756756, 'Classical'),\n",
       " (291.75537692307694, 'Jazz'),\n",
       " (283.9100431765613, 'Rock'),\n",
       " (270.35977777777777, 'Blues'),\n",
       " (264.05852500000003, 'Alternative'),\n",
       " (247.17775862068964, 'Reggae'),\n",
       " (244.37088372093024, 'Soundtrack'),\n",
       " (234.35384939759035, 'Alternative & Punk'),\n",
       " (232.85926252158893, 'Latin'),\n",
       " (229.03410416666665, 'Pop'),\n",
       " (224.92382142857142, 'World'),\n",
       " (220.0668524590164, 'R&B/Soul'),\n",
       " (219.59, 'Bossa Nova'),\n",
       " (189.16420833333333, 'Easy Listening'),\n",
       " (178.1762857142857, 'Hip Hop/Rap'),\n",
       " (174.813, 'Opera'),\n",
       " (134.6435, 'Rock And Roll')]"
      ]
     },
     "execution_count": 2,
     "metadata": {},
     "output_type": "execute_result"
    }
   ],
   "source": [
    "query = \"\"\"\n",
    "SELECT AVG(tracks.Milliseconds) / 1000, genres.Name\n",
    "FROM tracks\n",
    "JOIN genres\n",
    "ON tracks.genreid = genres.genreid\n",
    "GROUP BY tracks.genreid\n",
    "ORDER BY AVG(Tracks.Milliseconds) DESC;\n",
    "\"\"\"\n",
    "res = conn.execute(query)\n",
    "list(res)"
   ]
  },
  {
   "cell_type": "markdown",
   "metadata": {},
   "source": [
    "We can see thta the longest genres seem to actually be audio books, TV shows, and comedians."
   ]
  },
  {
   "cell_type": "markdown",
   "metadata": {},
   "source": [
    "Get the total sales for each year and genre."
   ]
  },
  {
   "cell_type": "code",
   "execution_count": 9,
   "metadata": {},
   "outputs": [
    {
     "data": {
      "text/plain": [
       "[(1561.2300000000005, '2009', 'Rock'),\n",
       " (185.13, '2009', 'Jazz'),\n",
       " (502.92000000000013, '2009', 'Metal'),\n",
       " (466.29000000000025, '2009', 'Alternative & Punk'),\n",
       " (13.86, '2009', 'Rock And Roll'),\n",
       " (112.85999999999999, '2009', 'Blues'),\n",
       " (789.0300000000002, '2009', 'Latin'),\n",
       " (58.41, '2009', 'Reggae'),\n",
       " (13.86, '2009', 'Pop'),\n",
       " (45.53999999999999, '2009', 'Soundtrack'),\n",
       " (13.86, '2009', 'Bossa Nova'),\n",
       " (41.58, '2009', 'Easy Listening'),\n",
       " (50.489999999999995, '2009', 'Heavy Metal'),\n",
       " (69.3, '2009', 'R&B/Soul'),\n",
       " (17.82, '2009', 'Electronica/Dance'),\n",
       " (41.58, '2009', 'World'),\n",
       " (27.72, '2009', 'Hip Hop/Rap'),\n",
       " (1364.7700000000013, '2010', 'Rock'),\n",
       " (173.24999999999997, '2010', 'Jazz'),\n",
       " (488.2300000000002, '2010', 'Metal'),\n",
       " (264.37999999999994, '2010', 'Alternative & Punk'),\n",
       " (27.72, '2010', 'Rock And Roll'),\n",
       " (44.550000000000004, '2010', 'Blues'),\n",
       " (804.1400000000006, '2010', 'Latin'),\n",
       " (58.41, '2010', 'Reggae'),\n",
       " (61.38, '2010', 'Pop'),\n",
       " (55.44, '2010', 'Soundtrack'),\n",
       " (27.72, '2010', 'Bossa Nova'),\n",
       " (27.72, '2010', 'Easy Listening'),\n",
       " (41.58, '2010', 'Heavy Metal'),\n",
       " (103.98999999999998, '2010', 'R&B/Soul'),\n",
       " (38.64, '2010', 'Electronica/Dance'),\n",
       " (41.58, '2010', 'World'),\n",
       " (29.73, '2010', 'Hip Hop/Rap'),\n",
       " (35.82, '2010', 'Science Fiction'),\n",
       " (225.48000000000002, '2010', 'TV Shows'),\n",
       " (49.71999999999999, '2010', 'Sci Fi & Fantasy'),\n",
       " (148.10999999999999, '2010', 'Drama'),\n",
       " (37.72, '2010', 'Comedy'),\n",
       " (80.28999999999999, '2010', 'Alternative'),\n",
       " (99.07999999999998, '2010', 'Classical'),\n",
       " (1586.62, '2011', 'Rock'),\n",
       " (153.45, '2011', 'Jazz'),\n",
       " (177.26, '2011', 'Metal'),\n",
       " (437.7600000000003, '2011', 'Alternative & Punk'),\n",
       " (13.86, '2011', 'Rock And Roll'),\n",
       " (105.92999999999998, '2011', 'Blues'),\n",
       " (613.0600000000006, '2011', 'Latin'),\n",
       " (100.97999999999999, '2011', 'Reggae'),\n",
       " (78.3, '2011', 'Pop'),\n",
       " (54.45, '2011', 'Soundtrack'),\n",
       " (20.790000000000003, '2011', 'Bossa Nova'),\n",
       " (41.58, '2011', 'Easy Listening'),\n",
       " (16.830000000000002, '2011', 'R&B/Soul'),\n",
       " (31.72, '2011', 'Electronica/Dance'),\n",
       " (15.86, '2011', 'World'),\n",
       " (40.59, '2011', 'Hip Hop/Rap'),\n",
       " (29.82, '2011', 'Science Fiction'),\n",
       " (273.1900000000001, '2011', 'TV Shows'),\n",
       " (66.61999999999999, '2011', 'Sci Fi & Fantasy'),\n",
       " (73.46, '2011', 'Drama'),\n",
       " (18.86, '2011', 'Comedy'),\n",
       " (63.44, '2011', 'Alternative'),\n",
       " (111.96999999999998, '2011', 'Classical'),\n",
       " (1536.1600000000017, '2012', 'Rock'),\n",
       " (67.32, '2012', 'Jazz'),\n",
       " (487.14000000000027, '2012', 'Metal'),\n",
       " (345.6300000000001, '2012', 'Alternative & Punk'),\n",
       " (27.72, '2012', 'Rock And Roll'),\n",
       " (73.25999999999999, '2012', 'Blues'),\n",
       " (543.6200000000006, '2012', 'Latin'),\n",
       " (73.25999999999999, '2012', 'Reggae'),\n",
       " (86.21, '2012', 'Pop'),\n",
       " (45.54, '2012', 'Soundtrack'),\n",
       " (41.58, '2012', 'Heavy Metal'),\n",
       " (99.99, '2012', 'R&B/Soul'),\n",
       " (47.58, '2012', 'Electronica/Dance'),\n",
       " (41.58, '2012', 'World'),\n",
       " (61.44, '2012', 'Hip Hop/Rap'),\n",
       " (10.91, '2012', 'Science Fiction'),\n",
       " (161.89, '2012', 'TV Shows'),\n",
       " (82.52999999999999, '2012', 'Sci Fi & Fantasy'),\n",
       " (193.74, '2012', 'Drama'),\n",
       " (55.72, '2012', 'Comedy'),\n",
       " (67.44, '2012', 'Alternative'),\n",
       " (105.98999999999998, '2012', 'Classical'),\n",
       " (1671.2400000000007, '2013', 'Rock'),\n",
       " (167.30999999999995, '2013', 'Jazz'),\n",
       " (437.58000000000027, '2013', 'Metal'),\n",
       " (447.6000000000002, '2013', 'Alternative & Punk'),\n",
       " (93.05999999999999, '2013', 'Blues'),\n",
       " (722.7000000000004, '2013', 'Latin'),\n",
       " (41.58, '2013', 'Reggae'),\n",
       " (41.58, '2013', 'Soundtrack'),\n",
       " (23.76, '2013', 'Bossa Nova'),\n",
       " (27.72, '2013', 'Easy Listening'),\n",
       " (27.72, '2013', 'Heavy Metal'),\n",
       " (48.50999999999999, '2013', 'R&B/Soul'),\n",
       " (13.86, '2013', 'Electronica/Dance'),\n",
       " (41.58, '2013', 'World'),\n",
       " (6.93, '2013', 'Hip Hop/Rap'),\n",
       " (25.86, '2013', 'Science Fiction'),\n",
       " (157.15000000000003, '2013', 'TV Shows'),\n",
       " (129.3, '2013', 'Drama')]"
      ]
     },
     "execution_count": 9,
     "metadata": {},
     "output_type": "execute_result"
    }
   ],
   "source": [
    "query = \"\"\"\n",
    "SELECT SUM(invoices.total), STRFTIME('%Y', invoices.InvoiceDate) as year, genres.name\n",
    "FROM invoices\n",
    "JOIN invoice_items\n",
    "ON invoices.invoiceid = invoice_items.invoiceid\n",
    "JOIN tracks\n",
    "ON invoice_items.trackid = tracks.trackid\n",
    "JOIN genres\n",
    "ON tracks.genreid = genres.genreid\n",
    "GROUP BY year, tracks.genreid\n",
    "ORDER BY year;\n",
    "\"\"\"\n",
    "res = conn.execute(query)\n",
    "res_list = list(res)\n",
    "res_list"
   ]
  },
  {
   "cell_type": "markdown",
   "metadata": {},
   "source": [
    "This is a ton of data, and we will have to use pandas and matplotlib to understand what it is telling us in the next chapter.\n",
    "\n",
    "Below is a preview of the next chapter -- using pandas DataFrames and writing data to files:"
   ]
  },
  {
   "cell_type": "code",
   "execution_count": 13,
   "metadata": {},
   "outputs": [],
   "source": [
    "import pandas as pd\n",
    "df = pd.DataFrame(res_list, columns=['sales_USD', 'year', 'genre'])\n",
    "df.to_csv('chinook_data.csv', index=False)\n",
    "df.to_excel('chinook_data.xlsx', index=False)"
   ]
  }
 ],
 "metadata": {
  "kernelspec": {
   "display_name": "Python 3",
   "language": "python",
   "name": "python3"
  },
  "language_info": {
   "codemirror_mode": {
    "name": "ipython",
    "version": 3
   },
   "file_extension": ".py",
   "mimetype": "text/x-python",
   "name": "python",
   "nbconvert_exporter": "python",
   "pygments_lexer": "ipython3",
   "version": "3.8.5"
  }
 },
 "nbformat": 4,
 "nbformat_minor": 4
}
